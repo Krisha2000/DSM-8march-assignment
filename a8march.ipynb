{
 "cells": [
  {
   "cell_type": "markdown",
   "id": "dd40d287-0b75-4489-bf74-c22d5470daed",
   "metadata": {},
   "source": [
    "# Quetion : 1"
   ]
  },
  {
   "cell_type": "markdown",
   "id": "0db22727-adcb-44df-99d0-8f8656b9ed2a",
   "metadata": {},
   "source": [
    "The probability density function (PDF) is a function that describes the probability of a random variable taking on a certain value or range of values. The PDF is used to describe continuous random variables and can be used to calculate the probability of a random variable falling within a certain range."
   ]
  },
  {
   "cell_type": "markdown",
   "id": "b774dc90-73d0-420e-aafc-367a2c174440",
   "metadata": {},
   "source": [
    "# Quetion : 2"
   ]
  },
  {
   "cell_type": "markdown",
   "id": "260c425d-1b3e-49c1-83e5-1f0e9d268681",
   "metadata": {},
   "source": [
    "The types of probability distribution are:\n",
    "\n",
    "Normal distribution\n",
    "\n",
    "Binomial distribution\n",
    "\n",
    "Poisson distribution\n",
    "\n",
    "Exponential distribution\n",
    "\n",
    "Gamma distribution\n",
    "\n",
    "Beta distribution"
   ]
  },
  {
   "cell_type": "markdown",
   "id": "91f0927a-0426-428f-a50a-5a63c4e576d9",
   "metadata": {},
   "source": [
    "# Quetion : 3"
   ]
  },
  {
   "cell_type": "code",
   "execution_count": 1,
   "id": "de6179f8-310a-44d2-aad7-e7430ba82326",
   "metadata": {},
   "outputs": [],
   "source": [
    "import math\n",
    "\n",
    "def normal_pdf(x, mean, std_dev):\n",
    "    coeff = 1 / (std_dev * math.sqrt(2 * math.pi))\n",
    "    exponent = -((x - mean) ** 2) / (2 * std_dev ** 2)\n",
    "    return coeff * math.exp(exponent)\n"
   ]
  },
  {
   "cell_type": "markdown",
   "id": "9522dc3c-c43e-40de-833e-05d10e82d4f4",
   "metadata": {},
   "source": [
    "# Quetion : 4"
   ]
  },
  {
   "cell_type": "markdown",
   "id": "c2d83408-1d79-4d44-9c9f-f9df734629c3",
   "metadata": {},
   "source": [
    "The properties of Binomial distribution are:\n",
    "\n",
    "It is a discrete probability distribution that describes the number of successes in a fixed number of independent trials.\n",
    "It has two parameters: n (number of trials) and p (probability of success).\n",
    "The mean of a binomial distribution is n * p and the variance is n * p * (1 - p).\n",
    "It assumes that each trial is independent and has only two possible outcomes (success or failure).\n",
    "Two examples of events where binomial distribution can be applied are:\n",
    "\n",
    "The number of people in a group who prefer a certain brand of soft drink over another brand.\n",
    "The number of people who click on a certain advertisement out of a given number of website visitors."
   ]
  },
  {
   "cell_type": "markdown",
   "id": "1a929c3f-84d8-4395-931b-53af2efa680e",
   "metadata": {},
   "source": [
    "# Quetion : 5"
   ]
  },
  {
   "cell_type": "code",
   "execution_count": 4,
   "id": "fb7994d5-edf0-47e3-a9e5-f9c0efbc3faa",
   "metadata": {},
   "outputs": [
    {
     "data": {
      "image/png": "[encoded data removed]",
      "text/plain": [
       "<Figure size 640x480 with 1 Axes>"
      ]
     },
     "metadata": {},
     "output_type": "display_data"
    }
   ],
   "source": [
    "import numpy as np\n",
    "import matplotlib.pyplot as plt\n",
    "\n",
    "n = 1000\n",
    "p = 0.4\n",
    "\n",
    "sample = np.random.binomial(n, p, size=1000)\n",
    "\n",
    "plt.hist(sample, bins=20)\n",
    "plt.title(\"Histogram of Binomial Distribution\")\n",
    "plt.xlabel(\"Number of successes\")\n",
    "plt.ylabel(\"Frequency\")\n",
    "plt.show()"
   ]
  },
  {
   "cell_type": "markdown",
   "id": "c5761ee1-8237-49cd-abb1-527bb4691adc",
   "metadata": {},
   "source": [
    "# Quetion : 6"
   ]
  },
  {
   "cell_type": "code",
   "execution_count": 5,
   "id": "91b416cb-ef26-4f05-8343-2864ca8d2b9a",
   "metadata": {},
   "outputs": [],
   "source": [
    "import math\n",
    "\n",
    "def poisson_cdf(x, mean):\n",
    "    cdf = 0\n",
    "    for i in range(x + 1):\n",
    "        cdf += (mean ** i) * math.exp(-mean) / math.factorial(i)\n",
    "    return cdf\n"
   ]
  },
  {
   "cell_type": "markdown",
   "id": "b7222c6e-c743-4803-a55f-2e121e0de93e",
   "metadata": {},
   "source": [
    "# Quetion : 7"
   ]
  },
  {
   "cell_type": "markdown",
   "id": "9c347cdf-59a4-43de-a84e-2071b60e34a9",
   "metadata": {},
   "source": [
    "The main difference between Binomial distribution and Poisson distribution is that Binomial distribution describes the number of successes in a fixed number of independent trials, while Poisson distribution describes the number of events in a fixed interval of time or space. Binomial distribution assumes a fixed number of trials and a constant probability of success, while Poisson distribution assumes a fixed interval of time or space and a constant rate of events."
   ]
  },
  {
   "cell_type": "markdown",
   "id": "ca781596-27ff-4051-917c-52e04d7f309e",
   "metadata": {},
   "source": [
    "# Quetion : 8"
   ]
  },
  {
   "cell_type": "code",
   "execution_count": null,
   "id": "1954ae70-03f8-49c2-b872-662f720f02ff",
   "metadata": {},
   "outputs": [],
   "source": []
  },
  {
   "cell_type": "markdown",
   "id": "97efcc72-649f-46c0-9587-4ad11b2763de",
   "metadata": {},
   "source": [
    "# Quetion : 9"
   ]
  },
  {
   "cell_type": "markdown",
   "id": "2832d1f4-155c-4a59-924c-c48c01a1157c",
   "metadata": {},
   "source": [
    "# Quetion : 10"
   ]
  }
 ],
 "metadata": {
  "kernelspec": {
   "display_name": "Python 3 (ipykernel)",
   "language": "python",
   "name": "python3"
  },
  "language_info": {
   "codemirror_mode": {
    "name": "ipython",
    "version": 3
   },
   "file_extension": ".py",
   "mimetype": "text/x-python",
   "name": "python",
   "nbconvert_exporter": "python",
   "pygments_lexer": "ipython3",
   "version": "3.10.8"
  }
 },
 "nbformat": 4,
 "nbformat_minor": 5
}
